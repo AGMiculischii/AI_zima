{
 "cells": [
  {
   "cell_type": "code",
   "execution_count": 1,
   "metadata": {},
   "outputs": [
    {
     "data": {
      "text/plain": [
       "(2048, 2048, 3)"
      ]
     },
     "execution_count": 1,
     "metadata": {},
     "output_type": "execute_result"
    }
   ],
   "source": [
    "import skimage\n",
    "from skimage import io\n",
    "img = io.imread('/tekwill_uroki/AI/AI_zima/CV/CVC/Lenna.png')\n",
    "img\n",
    "img[0]\n",
    "img.shape\n"
   ]
  },
  {
   "cell_type": "code",
   "execution_count": 3,
   "metadata": {},
   "outputs": [
    {
     "ename": "RuntimeError",
     "evalue": "No suitable plugin registered for imshow.\n\nYou may load I/O plugins with the `skimage.io.use_plugin` command.  A list of all available plugins are shown in the `skimage.io` docstring.",
     "output_type": "error",
     "traceback": [
      "\u001b[1;31m---------------------------------------------------------------------------\u001b[0m",
      "\u001b[1;31mRuntimeError\u001b[0m                              Traceback (most recent call last)",
      "Cell \u001b[1;32mIn [3], line 4\u001b[0m\n\u001b[0;32m      2\u001b[0m img \u001b[39m=\u001b[39m io\u001b[39m.\u001b[39mimread(\u001b[39m'\u001b[39m\u001b[39m/tekwill_uroki/AI/AI_zima/CV/CVC/Lenna.png\u001b[39m\u001b[39m'\u001b[39m)\n\u001b[0;32m      3\u001b[0m img_hsv \u001b[39m=\u001b[39m color\u001b[39m.\u001b[39mrgb2hsv(img)\n\u001b[1;32m----> 4\u001b[0m io\u001b[39m.\u001b[39;49mimshow(img_hsv, cmap\u001b[39m=\u001b[39;49m\u001b[39m'\u001b[39;49m\u001b[39mhsv\u001b[39;49m\u001b[39m'\u001b[39;49m)\n",
      "File \u001b[1;32m~\\AppData\\Roaming\\Python\\Python310\\site-packages\\skimage\\io\\_io.py:166\u001b[0m, in \u001b[0;36mimshow\u001b[1;34m(arr, plugin, **plugin_args)\u001b[0m\n\u001b[0;32m    164\u001b[0m \u001b[39mif\u001b[39;00m \u001b[39misinstance\u001b[39m(arr, \u001b[39mstr\u001b[39m):\n\u001b[0;32m    165\u001b[0m     arr \u001b[39m=\u001b[39m call_plugin(\u001b[39m'\u001b[39m\u001b[39mimread\u001b[39m\u001b[39m'\u001b[39m, arr, plugin\u001b[39m=\u001b[39mplugin)\n\u001b[1;32m--> 166\u001b[0m \u001b[39mreturn\u001b[39;00m call_plugin(\u001b[39m'\u001b[39m\u001b[39mimshow\u001b[39m\u001b[39m'\u001b[39m, arr, plugin\u001b[39m=\u001b[39mplugin, \u001b[39m*\u001b[39m\u001b[39m*\u001b[39mplugin_args)\n",
      "File \u001b[1;32m~\\AppData\\Roaming\\Python\\Python310\\site-packages\\skimage\\io\\manage_plugins.py:194\u001b[0m, in \u001b[0;36mcall_plugin\u001b[1;34m(kind, *args, **kwargs)\u001b[0m\n\u001b[0;32m    189\u001b[0m \u001b[39mif\u001b[39;00m \u001b[39mlen\u001b[39m(plugin_funcs) \u001b[39m==\u001b[39m \u001b[39m0\u001b[39m:\n\u001b[0;32m    190\u001b[0m     msg \u001b[39m=\u001b[39m (\u001b[39m\"\u001b[39m\u001b[39mNo suitable plugin registered for \u001b[39m\u001b[39m%s\u001b[39;00m\u001b[39m.\u001b[39m\u001b[39m\\n\u001b[39;00m\u001b[39m\\n\u001b[39;00m\u001b[39m\"\u001b[39m\n\u001b[0;32m    191\u001b[0m            \u001b[39m\"\u001b[39m\u001b[39mYou may load I/O plugins with the `skimage.io.use_plugin` \u001b[39m\u001b[39m\"\u001b[39m\n\u001b[0;32m    192\u001b[0m            \u001b[39m\"\u001b[39m\u001b[39mcommand.  A list of all available plugins are shown in the \u001b[39m\u001b[39m\"\u001b[39m\n\u001b[0;32m    193\u001b[0m            \u001b[39m\"\u001b[39m\u001b[39m`skimage.io` docstring.\u001b[39m\u001b[39m\"\u001b[39m)\n\u001b[1;32m--> 194\u001b[0m     \u001b[39mraise\u001b[39;00m \u001b[39mRuntimeError\u001b[39;00m(msg \u001b[39m%\u001b[39m kind)\n\u001b[0;32m    196\u001b[0m plugin \u001b[39m=\u001b[39m kwargs\u001b[39m.\u001b[39mpop(\u001b[39m'\u001b[39m\u001b[39mplugin\u001b[39m\u001b[39m'\u001b[39m, \u001b[39mNone\u001b[39;00m)\n\u001b[0;32m    197\u001b[0m \u001b[39mif\u001b[39;00m plugin \u001b[39mis\u001b[39;00m \u001b[39mNone\u001b[39;00m:\n",
      "\u001b[1;31mRuntimeError\u001b[0m: No suitable plugin registered for imshow.\n\nYou may load I/O plugins with the `skimage.io.use_plugin` command.  A list of all available plugins are shown in the `skimage.io` docstring."
     ]
    }
   ],
   "source": [
    "from skimage import io, color, data\n",
    "img = io.imread('/tekwill_uroki/AI/AI_zima/CV/CVC/Lenna.png')\n",
    "img_hsv = color.rgb2hsv(img)\n",
    "io.imshow(img_hsv, cmap='hsv')\n",
    "\n"
   ]
  },
  {
   "cell_type": "code",
   "execution_count": 4,
   "metadata": {},
   "outputs": [
    {
     "ename": "RuntimeError",
     "evalue": "No suitable plugin registered for imshow.\n\nYou may load I/O plugins with the `skimage.io.use_plugin` command.  A list of all available plugins are shown in the `skimage.io` docstring.",
     "output_type": "error",
     "traceback": [
      "\u001b[1;31m---------------------------------------------------------------------------\u001b[0m",
      "\u001b[1;31mRuntimeError\u001b[0m                              Traceback (most recent call last)",
      "Cell \u001b[1;32mIn [4], line 2\u001b[0m\n\u001b[0;32m      1\u001b[0m rgb_img \u001b[39m=\u001b[39m color\u001b[39m.\u001b[39mhsv2rgb(img_hsv)\n\u001b[1;32m----> 2\u001b[0m io\u001b[39m.\u001b[39;49mimshow(rgb_img)\n",
      "File \u001b[1;32m~\\AppData\\Roaming\\Python\\Python310\\site-packages\\skimage\\io\\_io.py:166\u001b[0m, in \u001b[0;36mimshow\u001b[1;34m(arr, plugin, **plugin_args)\u001b[0m\n\u001b[0;32m    164\u001b[0m \u001b[39mif\u001b[39;00m \u001b[39misinstance\u001b[39m(arr, \u001b[39mstr\u001b[39m):\n\u001b[0;32m    165\u001b[0m     arr \u001b[39m=\u001b[39m call_plugin(\u001b[39m'\u001b[39m\u001b[39mimread\u001b[39m\u001b[39m'\u001b[39m, arr, plugin\u001b[39m=\u001b[39mplugin)\n\u001b[1;32m--> 166\u001b[0m \u001b[39mreturn\u001b[39;00m call_plugin(\u001b[39m'\u001b[39m\u001b[39mimshow\u001b[39m\u001b[39m'\u001b[39m, arr, plugin\u001b[39m=\u001b[39mplugin, \u001b[39m*\u001b[39m\u001b[39m*\u001b[39mplugin_args)\n",
      "File \u001b[1;32m~\\AppData\\Roaming\\Python\\Python310\\site-packages\\skimage\\io\\manage_plugins.py:194\u001b[0m, in \u001b[0;36mcall_plugin\u001b[1;34m(kind, *args, **kwargs)\u001b[0m\n\u001b[0;32m    189\u001b[0m \u001b[39mif\u001b[39;00m \u001b[39mlen\u001b[39m(plugin_funcs) \u001b[39m==\u001b[39m \u001b[39m0\u001b[39m:\n\u001b[0;32m    190\u001b[0m     msg \u001b[39m=\u001b[39m (\u001b[39m\"\u001b[39m\u001b[39mNo suitable plugin registered for \u001b[39m\u001b[39m%s\u001b[39;00m\u001b[39m.\u001b[39m\u001b[39m\\n\u001b[39;00m\u001b[39m\\n\u001b[39;00m\u001b[39m\"\u001b[39m\n\u001b[0;32m    191\u001b[0m            \u001b[39m\"\u001b[39m\u001b[39mYou may load I/O plugins with the `skimage.io.use_plugin` \u001b[39m\u001b[39m\"\u001b[39m\n\u001b[0;32m    192\u001b[0m            \u001b[39m\"\u001b[39m\u001b[39mcommand.  A list of all available plugins are shown in the \u001b[39m\u001b[39m\"\u001b[39m\n\u001b[0;32m    193\u001b[0m            \u001b[39m\"\u001b[39m\u001b[39m`skimage.io` docstring.\u001b[39m\u001b[39m\"\u001b[39m)\n\u001b[1;32m--> 194\u001b[0m     \u001b[39mraise\u001b[39;00m \u001b[39mRuntimeError\u001b[39;00m(msg \u001b[39m%\u001b[39m kind)\n\u001b[0;32m    196\u001b[0m plugin \u001b[39m=\u001b[39m kwargs\u001b[39m.\u001b[39mpop(\u001b[39m'\u001b[39m\u001b[39mplugin\u001b[39m\u001b[39m'\u001b[39m, \u001b[39mNone\u001b[39;00m)\n\u001b[0;32m    197\u001b[0m \u001b[39mif\u001b[39;00m plugin \u001b[39mis\u001b[39;00m \u001b[39mNone\u001b[39;00m:\n",
      "\u001b[1;31mRuntimeError\u001b[0m: No suitable plugin registered for imshow.\n\nYou may load I/O plugins with the `skimage.io.use_plugin` command.  A list of all available plugins are shown in the `skimage.io` docstring."
     ]
    }
   ],
   "source": [
    "rgb_img = color.hsv2rgb(img_hsv)\n",
    "io.imshow(rgb_img)\n"
   ]
  },
  {
   "cell_type": "code",
   "execution_count": 6,
   "metadata": {},
   "outputs": [
    {
     "ename": "RuntimeError",
     "evalue": "No suitable plugin registered for imshow.\n\nYou may load I/O plugins with the `skimage.io.use_plugin` command.  A list of all available plugins are shown in the `skimage.io` docstring.",
     "output_type": "error",
     "traceback": [
      "\u001b[1;31m---------------------------------------------------------------------------\u001b[0m",
      "\u001b[1;31mRuntimeError\u001b[0m                              Traceback (most recent call last)",
      "Cell \u001b[1;32mIn [6], line 3\u001b[0m\n\u001b[0;32m      1\u001b[0m img \u001b[39m=\u001b[39m io\u001b[39m.\u001b[39mimread(\u001b[39m'\u001b[39m\u001b[39m/tekwill_uroki/AI/AI_zima/CV/CVC/Lenna.png\u001b[39m\u001b[39m'\u001b[39m)\n\u001b[0;32m      2\u001b[0m img_xyz \u001b[39m=\u001b[39m color\u001b[39m.\u001b[39mrgb2xyz(img)\n\u001b[1;32m----> 3\u001b[0m io\u001b[39m.\u001b[39;49mimshow(img_xyz)\n\u001b[0;32m      4\u001b[0m io\u001b[39m.\u001b[39mimsave(\u001b[39m'\u001b[39m\u001b[39mLena_xyz.png\u001b[39m\u001b[39m'\u001b[39m,img_xyz)\n",
      "File \u001b[1;32m~\\AppData\\Roaming\\Python\\Python310\\site-packages\\skimage\\io\\_io.py:166\u001b[0m, in \u001b[0;36mimshow\u001b[1;34m(arr, plugin, **plugin_args)\u001b[0m\n\u001b[0;32m    164\u001b[0m \u001b[39mif\u001b[39;00m \u001b[39misinstance\u001b[39m(arr, \u001b[39mstr\u001b[39m):\n\u001b[0;32m    165\u001b[0m     arr \u001b[39m=\u001b[39m call_plugin(\u001b[39m'\u001b[39m\u001b[39mimread\u001b[39m\u001b[39m'\u001b[39m, arr, plugin\u001b[39m=\u001b[39mplugin)\n\u001b[1;32m--> 166\u001b[0m \u001b[39mreturn\u001b[39;00m call_plugin(\u001b[39m'\u001b[39m\u001b[39mimshow\u001b[39m\u001b[39m'\u001b[39m, arr, plugin\u001b[39m=\u001b[39mplugin, \u001b[39m*\u001b[39m\u001b[39m*\u001b[39mplugin_args)\n",
      "File \u001b[1;32m~\\AppData\\Roaming\\Python\\Python310\\site-packages\\skimage\\io\\manage_plugins.py:194\u001b[0m, in \u001b[0;36mcall_plugin\u001b[1;34m(kind, *args, **kwargs)\u001b[0m\n\u001b[0;32m    189\u001b[0m \u001b[39mif\u001b[39;00m \u001b[39mlen\u001b[39m(plugin_funcs) \u001b[39m==\u001b[39m \u001b[39m0\u001b[39m:\n\u001b[0;32m    190\u001b[0m     msg \u001b[39m=\u001b[39m (\u001b[39m\"\u001b[39m\u001b[39mNo suitable plugin registered for \u001b[39m\u001b[39m%s\u001b[39;00m\u001b[39m.\u001b[39m\u001b[39m\\n\u001b[39;00m\u001b[39m\\n\u001b[39;00m\u001b[39m\"\u001b[39m\n\u001b[0;32m    191\u001b[0m            \u001b[39m\"\u001b[39m\u001b[39mYou may load I/O plugins with the `skimage.io.use_plugin` \u001b[39m\u001b[39m\"\u001b[39m\n\u001b[0;32m    192\u001b[0m            \u001b[39m\"\u001b[39m\u001b[39mcommand.  A list of all available plugins are shown in the \u001b[39m\u001b[39m\"\u001b[39m\n\u001b[0;32m    193\u001b[0m            \u001b[39m\"\u001b[39m\u001b[39m`skimage.io` docstring.\u001b[39m\u001b[39m\"\u001b[39m)\n\u001b[1;32m--> 194\u001b[0m     \u001b[39mraise\u001b[39;00m \u001b[39mRuntimeError\u001b[39;00m(msg \u001b[39m%\u001b[39m kind)\n\u001b[0;32m    196\u001b[0m plugin \u001b[39m=\u001b[39m kwargs\u001b[39m.\u001b[39mpop(\u001b[39m'\u001b[39m\u001b[39mplugin\u001b[39m\u001b[39m'\u001b[39m, \u001b[39mNone\u001b[39;00m)\n\u001b[0;32m    197\u001b[0m \u001b[39mif\u001b[39;00m plugin \u001b[39mis\u001b[39;00m \u001b[39mNone\u001b[39;00m:\n",
      "\u001b[1;31mRuntimeError\u001b[0m: No suitable plugin registered for imshow.\n\nYou may load I/O plugins with the `skimage.io.use_plugin` command.  A list of all available plugins are shown in the `skimage.io` docstring."
     ]
    }
   ],
   "source": [
    "img = io.imread('/tekwill_uroki/AI/AI_zima/CV/CVC/Lenna.png')\n",
    "img_xyz = color.rgb2xyz(img)\n",
    "io.imshow(img_xyz)\n",
    "io.imsave('Lena_xyz.png',img_xyz)"
   ]
  },
  {
   "cell_type": "code",
   "execution_count": null,
   "metadata": {},
   "outputs": [],
   "source": [
    "import numpy as np\n",
    "grey = np.array([\n",
    "    [\n",
    "        [136, 133, 133],\n",
    "        [196, 196, 196],\n",
    "        [196, 196, 196]\n",
    "    ],\n",
    "    [\n",
    "        [196, 196, 196],\n",
    "        [255, 255, 255],\n",
    "        [50, 50, 50]\n",
    "    ],\n",
    "    [\n",
    "        [50, 50, 50],\n",
    "        [196, 196, 196],\n",
    "        [255, 255, 255],\n",
    "    ]\n",
    "], dtype = np.uint8)\n"
   ]
  },
  {
   "cell_type": "code",
   "execution_count": null,
   "metadata": {},
   "outputs": [],
   "source": [
    "io.imshow(grey)"
   ]
  },
  {
   "cell_type": "code",
   "execution_count": 6,
   "metadata": {},
   "outputs": [],
   "source": [
    "import cv2"
   ]
  },
  {
   "cell_type": "code",
   "execution_count": 7,
   "metadata": {},
   "outputs": [],
   "source": [
    "treu_gray = cv2.cvtColor(grey,cv2.COLOR_BGR2GRAY)\n",
    "median_blured = cv2.medianBlur(treu_gray,3)"
   ]
  },
  {
   "cell_type": "code",
   "execution_count": 8,
   "metadata": {},
   "outputs": [],
   "source": [
    "back_bgr = cv2.cvtColor(median_blured, cv2.COLOR_GRAY2BGR)"
   ]
  },
  {
   "cell_type": "code",
   "execution_count": 9,
   "metadata": {},
   "outputs": [
    {
     "ename": "NameError",
     "evalue": "name 'io' is not defined",
     "output_type": "error",
     "traceback": [
      "\u001b[1;31m---------------------------------------------------------------------------\u001b[0m",
      "\u001b[1;31mNameError\u001b[0m                                 Traceback (most recent call last)",
      "Cell \u001b[1;32mIn [9], line 1\u001b[0m\n\u001b[1;32m----> 1\u001b[0m io\u001b[39m.\u001b[39mimshow(back_bgr)\n",
      "\u001b[1;31mNameError\u001b[0m: name 'io' is not defined"
     ]
    }
   ],
   "source": [
    "io.imshow(back_bgr)"
   ]
  },
  {
   "cell_type": "code",
   "execution_count": null,
   "metadata": {},
   "outputs": [],
   "source": [
    "img_bilateral = cv2.bilateralFilter(grey, 2, 100, 50)\n",
    "img_bgr = cv2.cvtColor(img_bilateral, cv2.COLOR_BGR2GRAY)\n",
    "io.imshow(img_bgr)"
   ]
  },
  {
   "cell_type": "code",
   "execution_count": null,
   "metadata": {},
   "outputs": [],
   "source": []
  }
 ],
 "metadata": {
  "kernelspec": {
   "display_name": "Python 3.10.8 64-bit",
   "language": "python",
   "name": "python3"
  },
  "language_info": {
   "codemirror_mode": {
    "name": "ipython",
    "version": 3
   },
   "file_extension": ".py",
   "mimetype": "text/x-python",
   "name": "python",
   "nbconvert_exporter": "python",
   "pygments_lexer": "ipython3",
   "version": "3.10.8"
  },
  "orig_nbformat": 4,
  "vscode": {
   "interpreter": {
    "hash": "26de051ba29f2982a8de78e945f0abaf191376122a1563185a90213a26c5da77"
   }
  }
 },
 "nbformat": 4,
 "nbformat_minor": 2
}
